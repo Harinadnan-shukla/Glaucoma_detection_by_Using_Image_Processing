{
 "cells": [
  {
   "cell_type": "code",
   "execution_count": 70,
   "metadata": {},
   "outputs": [],
   "source": [
    "import cv2 as cv\n",
    "import numpy as np\n",
    "import matplotlib.pyplot as plt\n",
    "import pandas as pd\n",
    "import openpyxl\n",
    "import sys\n",
    "import os\n",
    "import glob"
   ]
  },
  {
   "cell_type": "code",
   "execution_count": 73,
   "metadata": {},
   "outputs": [],
   "source": [
    "# laoding Ground truth\n",
    "# Drishti-GS1_diagnosis.xlsx is an excel file which contains the  Ground Truth Functions \n",
    "#so you can load and check as per requirement "
   ]
  },
  {
   "cell_type": "code",
   "execution_count": 74,
   "metadata": {},
   "outputs": [],
   "source": [
    "def load_image(path):\n",
    "    return cv.imread(path)"
   ]
  },
  {
   "cell_type": "code",
   "execution_count": 75,
   "metadata": {},
   "outputs": [],
   "source": [
    "#function to load image and their name\n",
    "def load_set(folder, shuffle=False):\n",
    "    img_list = sorted(glob.glob(os.path.join(folder, '*.png')) + \\\n",
    "                      glob.glob(os.path.join(folder, '*.jpg')) + \\\n",
    "                      glob.glob(os.path.join(folder, '*.jpeg')))\n",
    "    if shuffle:\n",
    "        np.random.shuffle(img_list)\n",
    "    data = []\n",
    "    filenames = []\n",
    "    for img_fn in img_list:\n",
    "        img = load_image(img_fn)\n",
    "        data.append(img)\n",
    "        filenames.append(img_fn)\n",
    "    return data, filenames"
   ]
  },
  {
   "cell_type": "code",
   "execution_count": 80,
   "metadata": {},
   "outputs": [],
   "source": [
    "#data extraction function\n",
    "#function for loading the dataset from dataset \n",
    "def extract(dataset_folder_path,cdr,choice): #choice is boolean variable that will True For Train And False for Test images\n",
    "                                               #cdr = cup to disk ratio\n",
    "\n",
    "    file_codes_all,exp1,exp2,exp3,exp4 = [], [], [], [], []  #intialzed list for holding the daatset files.\n",
    "    if choice:\n",
    "        set_path = os.path.join(dataset_folder_path,  'Training')\n",
    "    else:\n",
    "        set_path = os.path.join(dataset_folder_path, 'Test')\n",
    "    images_path = os.path.join(set_path, 'Images')\n",
    "    X_all, file_names = load_set(images_path)\n",
    "    rel_file_names = [os.path.split(fn)[-1] for fn in file_names]\n",
    "    rel_file_names_wo_ext = [fn[:fn.rfind('.')] for fn in rel_file_names]\n",
    "    if choice:\n",
    "        file_codes = [fn[fn.find('_'):] for fn in rel_file_names_wo_ext]\n",
    "    else:\n",
    "        file_codes = [fn[fn.find('_'):] for fn in rel_file_names_wo_ext]\n",
    "    file_codes_all.extend(file_codes)\n",
    "    \n",
    "    for fn in rel_file_names_wo_ext:\n",
    "        if cdr:\n",
    "            if choice:\n",
    "                CDR = open(os.path.join(set_path, 'GT', fn,fn + '_cdrValues.txt'),'r')\n",
    "            else:\n",
    "                CDR = open(os.path.join(set_path, 'Test_GT', fn,fn + '_cdrValues.txt'),'r')\n",
    "            CDR = list(CDR)\n",
    "            CDR = CDR[0].split()\n",
    "            exp1.append(float(CDR[0]))\n",
    "            exp2.append(float(CDR[1]))\n",
    "            exp3.append(float(CDR[2]))\n",
    "            exp4.append(float(CDR[3]))\n",
    "            \n",
    "    return X_all, file_codes_all,exp1,exp2,exp3,exp4,file_names"
   ]
  },
  {
   "cell_type": "code",
   "execution_count": 81,
   "metadata": {},
   "outputs": [],
   "source": [
    "# GET DATA\n",
    "X_all,file_codes_all,exp1,exp2,exp3,exp4,file_names = extract('Drishti-GS1_files\\Drishti-GS1_files',True,False) #put the folder where dataset is"
   ]
  },
  {
   "cell_type": "code",
   "execution_count": 82,
   "metadata": {},
   "outputs": [
    {
     "name": "stdout",
     "output_type": "stream",
     "text": [
      "(51,)\n",
      "(1751, 2049, 3)\n"
     ]
    },
    {
     "name": "stderr",
     "output_type": "stream",
     "text": [
      "C:\\Users\\serve\\AppData\\Local\\Temp\\ipykernel_20260\\1959275115.py:1: VisibleDeprecationWarning: Creating an ndarray from ragged nested sequences (which is a list-or-tuple of lists-or-tuples-or ndarrays with different lengths or shapes) is deprecated. If you meant to do this, you must specify 'dtype=object' when creating the ndarray.\n",
      "  print(np.array(X_all).shape)\n"
     ]
    }
   ],
   "source": [
    "print(np.array(X_all).shape)\n",
    "print(np.array(X_all[0]).shape)"
   ]
  },
  {
   "cell_type": "code",
   "execution_count": 83,
   "metadata": {},
   "outputs": [
    {
     "data": {
      "text/plain": [
       "['Drishti-GS1_files\\\\Drishti-GS1_files\\\\Test\\\\Images\\\\drishtiGS_001.png',\n",
       " 'Drishti-GS1_files\\\\Drishti-GS1_files\\\\Test\\\\Images\\\\drishtiGS_003.png',\n",
       " 'Drishti-GS1_files\\\\Drishti-GS1_files\\\\Test\\\\Images\\\\drishtiGS_005.png',\n",
       " 'Drishti-GS1_files\\\\Drishti-GS1_files\\\\Test\\\\Images\\\\drishtiGS_006.png',\n",
       " 'Drishti-GS1_files\\\\Drishti-GS1_files\\\\Test\\\\Images\\\\drishtiGS_007.png',\n",
       " 'Drishti-GS1_files\\\\Drishti-GS1_files\\\\Test\\\\Images\\\\drishtiGS_009.png',\n",
       " 'Drishti-GS1_files\\\\Drishti-GS1_files\\\\Test\\\\Images\\\\drishtiGS_011.png',\n",
       " 'Drishti-GS1_files\\\\Drishti-GS1_files\\\\Test\\\\Images\\\\drishtiGS_013.png',\n",
       " 'Drishti-GS1_files\\\\Drishti-GS1_files\\\\Test\\\\Images\\\\drishtiGS_014.png',\n",
       " 'Drishti-GS1_files\\\\Drishti-GS1_files\\\\Test\\\\Images\\\\drishtiGS_019.png',\n",
       " 'Drishti-GS1_files\\\\Drishti-GS1_files\\\\Test\\\\Images\\\\drishtiGS_020.png',\n",
       " 'Drishti-GS1_files\\\\Drishti-GS1_files\\\\Test\\\\Images\\\\drishtiGS_021.png',\n",
       " 'Drishti-GS1_files\\\\Drishti-GS1_files\\\\Test\\\\Images\\\\drishtiGS_023.png',\n",
       " 'Drishti-GS1_files\\\\Drishti-GS1_files\\\\Test\\\\Images\\\\drishtiGS_025.png',\n",
       " 'Drishti-GS1_files\\\\Drishti-GS1_files\\\\Test\\\\Images\\\\drishtiGS_027.png',\n",
       " 'Drishti-GS1_files\\\\Drishti-GS1_files\\\\Test\\\\Images\\\\drishtiGS_028.png',\n",
       " 'Drishti-GS1_files\\\\Drishti-GS1_files\\\\Test\\\\Images\\\\drishtiGS_029.png',\n",
       " 'Drishti-GS1_files\\\\Drishti-GS1_files\\\\Test\\\\Images\\\\drishtiGS_030.png',\n",
       " 'Drishti-GS1_files\\\\Drishti-GS1_files\\\\Test\\\\Images\\\\drishtiGS_034.png',\n",
       " 'Drishti-GS1_files\\\\Drishti-GS1_files\\\\Test\\\\Images\\\\drishtiGS_039.png',\n",
       " 'Drishti-GS1_files\\\\Drishti-GS1_files\\\\Test\\\\Images\\\\drishtiGS_043.png',\n",
       " 'Drishti-GS1_files\\\\Drishti-GS1_files\\\\Test\\\\Images\\\\drishtiGS_048.png',\n",
       " 'Drishti-GS1_files\\\\Drishti-GS1_files\\\\Test\\\\Images\\\\drishtiGS_050.png',\n",
       " 'Drishti-GS1_files\\\\Drishti-GS1_files\\\\Test\\\\Images\\\\drishtiGS_052.png',\n",
       " 'Drishti-GS1_files\\\\Drishti-GS1_files\\\\Test\\\\Images\\\\drishtiGS_053.png',\n",
       " 'Drishti-GS1_files\\\\Drishti-GS1_files\\\\Test\\\\Images\\\\drishtiGS_054.png',\n",
       " 'Drishti-GS1_files\\\\Drishti-GS1_files\\\\Test\\\\Images\\\\drishtiGS_055.png',\n",
       " 'Drishti-GS1_files\\\\Drishti-GS1_files\\\\Test\\\\Images\\\\drishtiGS_056.png',\n",
       " 'Drishti-GS1_files\\\\Drishti-GS1_files\\\\Test\\\\Images\\\\drishtiGS_059.png',\n",
       " 'Drishti-GS1_files\\\\Drishti-GS1_files\\\\Test\\\\Images\\\\drishtiGS_065.png',\n",
       " 'Drishti-GS1_files\\\\Drishti-GS1_files\\\\Test\\\\Images\\\\drishtiGS_067.png',\n",
       " 'Drishti-GS1_files\\\\Drishti-GS1_files\\\\Test\\\\Images\\\\drishtiGS_070.png',\n",
       " 'Drishti-GS1_files\\\\Drishti-GS1_files\\\\Test\\\\Images\\\\drishtiGS_071.png',\n",
       " 'Drishti-GS1_files\\\\Drishti-GS1_files\\\\Test\\\\Images\\\\drishtiGS_072.png',\n",
       " 'Drishti-GS1_files\\\\Drishti-GS1_files\\\\Test\\\\Images\\\\drishtiGS_073.png',\n",
       " 'Drishti-GS1_files\\\\Drishti-GS1_files\\\\Test\\\\Images\\\\drishtiGS_074.png',\n",
       " 'Drishti-GS1_files\\\\Drishti-GS1_files\\\\Test\\\\Images\\\\drishtiGS_077.png',\n",
       " 'Drishti-GS1_files\\\\Drishti-GS1_files\\\\Test\\\\Images\\\\drishtiGS_078.png',\n",
       " 'Drishti-GS1_files\\\\Drishti-GS1_files\\\\Test\\\\Images\\\\drishtiGS_079.png',\n",
       " 'Drishti-GS1_files\\\\Drishti-GS1_files\\\\Test\\\\Images\\\\drishtiGS_082.png',\n",
       " 'Drishti-GS1_files\\\\Drishti-GS1_files\\\\Test\\\\Images\\\\drishtiGS_083.png',\n",
       " 'Drishti-GS1_files\\\\Drishti-GS1_files\\\\Test\\\\Images\\\\drishtiGS_085.png',\n",
       " 'Drishti-GS1_files\\\\Drishti-GS1_files\\\\Test\\\\Images\\\\drishtiGS_086.png',\n",
       " 'Drishti-GS1_files\\\\Drishti-GS1_files\\\\Test\\\\Images\\\\drishtiGS_087.png',\n",
       " 'Drishti-GS1_files\\\\Drishti-GS1_files\\\\Test\\\\Images\\\\drishtiGS_091.png',\n",
       " 'Drishti-GS1_files\\\\Drishti-GS1_files\\\\Test\\\\Images\\\\drishtiGS_093.png',\n",
       " 'Drishti-GS1_files\\\\Drishti-GS1_files\\\\Test\\\\Images\\\\drishtiGS_095.png',\n",
       " 'Drishti-GS1_files\\\\Drishti-GS1_files\\\\Test\\\\Images\\\\drishtiGS_096.png',\n",
       " 'Drishti-GS1_files\\\\Drishti-GS1_files\\\\Test\\\\Images\\\\drishtiGS_097.png',\n",
       " 'Drishti-GS1_files\\\\Drishti-GS1_files\\\\Test\\\\Images\\\\drishtiGS_099.png',\n",
       " 'Drishti-GS1_files\\\\Drishti-GS1_files\\\\Test\\\\Images\\\\drishtiGS_100.png']"
      ]
     },
     "execution_count": 83,
     "metadata": {},
     "output_type": "execute_result"
    }
   ],
   "source": [
    "file_names"
   ]
  },
  {
   "cell_type": "code",
   "execution_count": null,
   "metadata": {},
   "outputs": [],
   "source": []
  },
  {
   "cell_type": "markdown",
   "metadata": {},
   "source": []
  }
 ],
 "metadata": {
  "kernelspec": {
   "display_name": "Python 3",
   "language": "python",
   "name": "python3"
  },
  "language_info": {
   "codemirror_mode": {
    "name": "ipython",
    "version": 3
   },
   "file_extension": ".py",
   "mimetype": "text/x-python",
   "name": "python",
   "nbconvert_exporter": "python",
   "pygments_lexer": "ipython3",
   "version": "3.10.9"
  },
  "orig_nbformat": 4,
  "vscode": {
   "interpreter": {
    "hash": "0f0d88241cae4f9ff93c9e359093b5e6a29de8f01bcd5ba84e1dc36564146407"
   }
  }
 },
 "nbformat": 4,
 "nbformat_minor": 2
}
